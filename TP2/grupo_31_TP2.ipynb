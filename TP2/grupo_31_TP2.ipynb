{
 "cells": [
  {
   "cell_type": "markdown",
   "id": "b12e43fd-21c4-49c0-b31a-f93ac8f09f06",
   "metadata": {},
   "source": [
    "# Trabajo Practico 2 - Matrices de Insumo Producto\n",
    "\n",
    "## Enunciado"
   ]
  },
  {
   "cell_type": "markdown",
   "id": "7ee1af13-b502-49bd-a1f2-57ec3624a6fc",
   "metadata": {},
   "source": [
    "### Consigna 1 -"
   ]
  },
  {
   "cell_type": "code",
   "execution_count": null,
   "id": "887f9f41-1aa6-4f55-a14b-8213e8a7e922",
   "metadata": {},
   "outputs": [],
   "source": []
  },
  {
   "cell_type": "markdown",
   "id": "b6e97a70-7d37-47b5-9ed3-b48c5c7274a6",
   "metadata": {},
   "source": [
    "### Consigna 2 -\n"
   ]
  },
  {
   "cell_type": "code",
   "execution_count": 1,
   "id": "246b5da1-3af8-4273-9e4c-f6ad4c42f30a",
   "metadata": {},
   "outputs": [
    {
     "name": "stdout",
     "output_type": "stream",
     "text": [
      "3.99999301990713\n"
     ]
    }
   ],
   "source": [
    "import numpy as np\n",
    "import matplotlib.pyplot as plt\n",
    "from funciones import *"
   ]
  },
  {
   "cell_type": "code",
   "execution_count": 3,
   "id": "8e395c80-a6b3-48f6-82df-57c74df0b278",
   "metadata": {},
   "outputs": [],
   "source": [
    "#Definimos las matrices:\n",
    "\n",
    "data1 = [\n",
    "    [0.186, 0.521, 0.014, 0.32, 0.134],\n",
    "    [0.24, 0.073, 0.219, 0.013, 0.327],\n",
    "    [0.098, 0.12, 0.311, 0.302, 0.208],\n",
    "    [0.173, 0.03, 0.133, 0.14, 0.074],\n",
    "    [0.303, 0.256, 0.323, 0.225, 0.257]\n",
    "    ]\n",
    "\n",
    "A1 = np.array(data1)\n",
    "\n",
    "data2 = [\n",
    "    [0.186, 0.521, 0.014, 0.32, 0.134],\n",
    "    [0.24, 0.073, 0.219, 0.013, 0.327],\n",
    "    [0.098, 0.12, 0.311, 0.302, 0.208],\n",
    "    [0.173, 0.03, 0.133, 0.14, 0.074],\n",
    "    [0.003, 0.256, 0.323, 0.225, 0.257]\n",
    "    ]\n",
    "\n",
    "A2 = np.array(data2)"
   ]
  },
  {
   "cell_type": "code",
   "execution_count": 4,
   "id": "15abfd7a-7090-4a7b-9de9-1846b832afce",
   "metadata": {},
   "outputs": [],
   "source": [
    "#Definimos función para calcular los vectores:\n",
    "\n",
    "def vector_generator(A, n):\n",
    "    v = np.zeros(n)\n",
    "    \n",
    "    for i in range (n):\n",
    "        A_elev = elevar_matriz(A, i+1 )\n",
    "        v[i] = np.linalg.norm(A_elev, 2)\n",
    "    \n",
    "    return v\n",
    "\n",
    "def elevar_matriz (A, n):\n",
    "    res = np.eye(np.shape(A)[0])\n",
    "\n",
    "    for i in range (n):\n",
    "        res = res @ A\n",
    "\n",
    "    return res "
   ]
  },
  {
   "cell_type": "code",
   "execution_count": 5,
   "id": "d12287aa-8eb2-4271-8a65-ee2542871229",
   "metadata": {},
   "outputs": [],
   "source": [
    "#Generamos los vectores pedidos:\n",
    "a1 = vector_generator(A1,250)\n",
    "\n",
    "a2 = vector_generator(A2, 250)"
   ]
  },
  {
   "cell_type": "code",
   "execution_count": 6,
   "id": "c7146ea2-ab6e-4eb2-8987-123e1d465d61",
   "metadata": {},
   "outputs": [
    {
     "data": {
      "image/png": "[encoded data removed]",
      "text/plain": [
       "<Figure size 640x480 with 1 Axes>"
      ]
     },
     "metadata": {},
     "output_type": "display_data"
    }
   ],
   "source": [
    "#Grafico:\n",
    "\n",
    "plt.figure()\n",
    "plt.plot(a1, label='Norma 2 de A1^n')\n",
    "plt.plot(a2, label='Norma 2 de A2^n')\n",
    "plt.xlabel('n')\n",
    "plt.ylabel('Norma 2')\n",
    "plt.title('Norma 2 de las potencias de A1 y A2')\n",
    "plt.legend()\n",
    "plt.grid()\n",
    "plt.show()"
   ]
  },
  {
   "cell_type": "markdown",
   "id": "a4012643-e03c-4014-9ee0-a806ab81b066",
   "metadata": {},
   "source": [
    "### Consigna 3 -"
   ]
  },
  {
   "cell_type": "code",
   "execution_count": 7,
   "id": "def21eca-ac0c-4040-a7c6-b4a548c902bf",
   "metadata": {},
   "outputs": [],
   "source": [
    "#Primero definimos una función que realice el método de la potencia aplicando el método de Monte Carlo.\n",
    "\n",
    "def metodo_potencia_MonteC(A,n):\n",
    "    autovals_arr = np.zeros(n)\n",
    "\n",
    "    for i in range (n):\n",
    "        autovals_arr[i] = metodo_potencia(A)\n",
    "\n",
    "    media = np.mean(autovals_arr)\n",
    "    desvio_estandar = np.std(autovals_arr)\n",
    "\n",
    "    return media, desvio_estandar"
   ]
  },
  {
   "cell_type": "code",
   "execution_count": 8,
   "id": "1360e23f-1f7a-4b0d-a687-6b0fd7ec2c71",
   "metadata": {},
   "outputs": [
    {
     "name": "stdout",
     "output_type": "stream",
     "text": [
      "autovalor más grande de A1 :0.9999995864750344\n",
      "autovalor más grande de A12 :0.9276513396037754\n"
     ]
    }
   ],
   "source": [
    "#Calculo Autovalores de A1 y A2\n",
    "\n",
    "#A1:\n",
    "a1, ds1 = metodo_potencia_MonteC(A1,250)\n",
    "print(f'autovalor más grande de A1 :{a1}')\n",
    "\n",
    "\n",
    "#A2\n",
    "a2, ds2 = metodo_potencia_MonteC(A2,250)\n",
    "print(f'autovalor más grande de A12 :{a2}')\n",
    "\n",
    "#chequeo\n",
    "#np.linalg.eigvals(A1)\n",
    "#np.linalg.eigvals(A2)"
   ]
  },
  {
   "cell_type": "markdown",
   "id": "6fa6cbb9",
   "metadata": {},
   "source": [
    "### Consigna 4 -\n"
   ]
  },
  {
   "cell_type": "code",
   "execution_count": 20,
   "id": "dcb6510d",
   "metadata": {},
   "outputs": [],
   "source": [
    "#Utilizamos nuevamente las matrices del ejercicio 2:\n",
    "\n",
    "data1 = [\n",
    "    [0.186, 0.521, 0.014, 0.32, 0.134],\n",
    "    [0.24, 0.073, 0.219, 0.013, 0.327],\n",
    "    [0.098, 0.12, 0.311, 0.302, 0.208],\n",
    "    [0.173, 0.03, 0.133, 0.14, 0.074],\n",
    "    [0.303, 0.256, 0.323, 0.225, 0.257]\n",
    "    ]\n",
    "\n",
    "A1 = np.array(data1)\n",
    "\n",
    "data2 = [\n",
    "    [0.186, 0.521, 0.014, 0.32, 0.134],\n",
    "    [0.24, 0.073, 0.219, 0.013, 0.327],\n",
    "    [0.098, 0.12, 0.311, 0.302, 0.208],\n",
    "    [0.173, 0.03, 0.133, 0.14, 0.074],\n",
    "    [0.003, 0.256, 0.323, 0.225, 0.257]\n",
    "    ]\n",
    "\n",
    "A2 = np.array(data2)\n",
    "\n"
   ]
  },
  {
   "cell_type": "markdown",
   "id": "6e914f36",
   "metadata": {},
   "source": [
    "La ecuacion (4) es : (I − A)^−1 = I + A + A^2 + A^3 + . . . + A^n + . . . (despues lo escribo bien con latex)"
   ]
  },
  {
   "cell_type": "code",
   "execution_count": 24,
   "id": "ace48ba5",
   "metadata": {},
   "outputs": [
    {
     "ename": "IndexError",
     "evalue": "index 11 is out of bounds for axis 0 with size 11",
     "output_type": "error",
     "traceback": [
      "\u001b[1;31m---------------------------------------------------------------------------\u001b[0m",
      "\u001b[1;31mIndexError\u001b[0m                                Traceback (most recent call last)",
      "Cell \u001b[1;32mIn[24], line 32\u001b[0m\n\u001b[0;32m     27\u001b[0m         \u001b[38;5;28;01mreturn\u001b[39;00m I\n\u001b[0;32m     30\u001b[0m serie_de_potencias(A1,n10)\n\u001b[1;32m---> 32\u001b[0m \u001b[43mserie_de_potencias\u001b[49m\u001b[43m(\u001b[49m\u001b[43mA1\u001b[49m\u001b[43m,\u001b[49m\u001b[38;5;241;43m100\u001b[39;49m\u001b[43m)\u001b[49m\n",
      "Cell \u001b[1;32mIn[24], line 12\u001b[0m, in \u001b[0;36mserie_de_potencias\u001b[1;34m(A, n)\u001b[0m\n\u001b[0;32m     10\u001b[0m \u001b[38;5;28;01mfor\u001b[39;00m i \u001b[38;5;129;01min\u001b[39;00m \u001b[38;5;28mrange\u001b[39m(n):\n\u001b[0;32m     11\u001b[0m     serie\u001b[38;5;241m=\u001b[39m suma_potencias(A,i)\n\u001b[1;32m---> 12\u001b[0m     \u001b[43mv\u001b[49m\u001b[43m[\u001b[49m\u001b[43mi\u001b[49m\u001b[43m]\u001b[49m\u001b[38;5;241m=\u001b[39mnp\u001b[38;5;241m.\u001b[39mlinalg\u001b[38;5;241m.\u001b[39mnorm(serie, \u001b[38;5;241m2\u001b[39m)\n\u001b[0;32m     14\u001b[0m \u001b[38;5;28;01mreturn\u001b[39;00m v\n",
      "\u001b[1;31mIndexError\u001b[0m: index 11 is out of bounds for axis 0 with size 11"
     ]
    }
   ],
   "source": [
    "#para n = 10\n",
    "n10 = 10\n",
    "\n",
    "def serie_de_potencias(A,n): #tal vez ineficiente, pero no me importa juaaaaaaa\n",
    "    dim=np.shape(A)[0]\n",
    "    \n",
    "    v = np.zeros(n10+1)\n",
    "\n",
    "\n",
    "    for i in range(n):\n",
    "        serie= suma_potencias(A,i)\n",
    "        v[i]=np.linalg.norm(serie, 2)\n",
    "\n",
    "    return v\n",
    "\n",
    "    \n",
    "    \n",
    "def suma_potencias(A,n):\n",
    "    dim=np.shape(A)[0]\n",
    "    \n",
    "    v = np.zeros(n+1)\n",
    "    I = np.eye(dim)\n",
    "\n",
    "    if n!=0:\n",
    "        return elevar_matriz(A,n) + suma_potencias(A,n-1)\n",
    "    else:\n",
    "        return I\n",
    "\n",
    "\n",
    "serie_de_potencias(A1,n10)\n",
    "\n",
    "serie_de_potencias(A1,100)\n"
   ]
  }
 ],
 "metadata": {
  "kernelspec": {
   "display_name": "Python 3",
   "language": "python",
   "name": "python3"
  },
  "language_info": {
   "codemirror_mode": {
    "name": "ipython",
    "version": 3
   },
   "file_extension": ".py",
   "mimetype": "text/x-python",
   "name": "python",
   "nbconvert_exporter": "python",
   "pygments_lexer": "ipython3",
   "version": "3.12.5"
  }
 },
 "nbformat": 4,
 "nbformat_minor": 5
}
