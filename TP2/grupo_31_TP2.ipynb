{
 "cells": [
  {
   "cell_type": "markdown",
   "id": "b12e43fd-21c4-49c0-b31a-f93ac8f09f06",
   "metadata": {},
   "source": [
    "# Trabajo Practico 2 - Matrices de Insumo Producto\n",
    "\n",
    "## Enunciado"
   ]
  },
  {
   "cell_type": "markdown",
   "id": "7ee1af13-b502-49bd-a1f2-57ec3624a6fc",
   "metadata": {},
   "source": [
    "### Consigna 1 -"
   ]
  },
  {
   "cell_type": "code",
   "execution_count": null,
   "id": "887f9f41-1aa6-4f55-a14b-8213e8a7e922",
   "metadata": {},
   "outputs": [],
   "source": []
  },
  {
   "cell_type": "markdown",
   "id": "b6e97a70-7d37-47b5-9ed3-b48c5c7274a6",
   "metadata": {},
   "source": [
    "### Consigna 2 -\n"
   ]
  },
  {
   "cell_type": "code",
   "execution_count": 1,
   "id": "246b5da1-3af8-4273-9e4c-f6ad4c42f30a",
   "metadata": {},
   "outputs": [
    {
     "name": "stdout",
     "output_type": "stream",
     "text": [
      "3.9999916693007873\n"
     ]
    }
   ],
   "source": [
    "import numpy as np\n",
    "import matplotlib.pyplot as plt\n",
    "from funciones import *"
   ]
  },
  {
   "cell_type": "code",
   "execution_count": 2,
   "id": "8e395c80-a6b3-48f6-82df-57c74df0b278",
   "metadata": {},
   "outputs": [],
   "source": [
    "#Definimos las matrices:\n",
    "\n",
    "data1 = [\n",
    "    [0.186, 0.521, 0.014, 0.32, 0.134],\n",
    "    [0.24, 0.073, 0.219, 0.013, 0.327],\n",
    "    [0.098, 0.12, 0.311, 0.302, 0.208],\n",
    "    [0.173, 0.03, 0.133, 0.14, 0.074],\n",
    "    [0.303, 0.256, 0.323, 0.225, 0.257]\n",
    "    ]\n",
    "\n",
    "A1 = np.array(data1)\n",
    "\n",
    "data2 = [\n",
    "    [0.186, 0.521, 0.014, 0.32, 0.134],\n",
    "    [0.24, 0.073, 0.219, 0.013, 0.327],\n",
    "    [0.098, 0.12, 0.311, 0.302, 0.208],\n",
    "    [0.173, 0.03, 0.133, 0.14, 0.074],\n",
    "    [0.003, 0.256, 0.323, 0.225, 0.257]\n",
    "    ]\n",
    "\n",
    "A2 = np.array(data2)"
   ]
  },
  {
   "cell_type": "code",
   "execution_count": 5,
   "id": "15abfd7a-7090-4a7b-9de9-1846b832afce",
   "metadata": {},
   "outputs": [],
   "source": [
    "#Definimos función para calcular los vectores:\n",
    "\n",
    "def vector_generator(A, n):\n",
    "    v = np.zeros(n)\n",
    "    \n",
    "    for i in range (n):\n",
    "        A_elev = elevar_matriz(A, i+1 )\n",
    "        v[i] = np.linalg.norm(A_elev, 2)\n",
    "    \n",
    "    return v\n",
    "\n",
    "def elevar_matriz (A, n):\n",
    "    res = np.eye(np.shape(A)[0])\n",
    "\n",
    "    for i in range (n):\n",
    "        res = res @ A\n",
    "\n",
    "    return res "
   ]
  },
  {
   "cell_type": "code",
   "execution_count": 6,
   "id": "d12287aa-8eb2-4271-8a65-ee2542871229",
   "metadata": {},
   "outputs": [],
   "source": [
    "#Generamos los vectores pedidos:\n",
    "a1 = vector_generator(A1,250)\n",
    "\n",
    "a2 = vector_generator(A2, 250)"
   ]
  },
  {
   "cell_type": "code",
   "execution_count": 9,
   "id": "c7146ea2-ab6e-4eb2-8987-123e1d465d61",
   "metadata": {},
   "outputs": [
    {
     "data": {
      "image/png": "[encoded data removed]",
      "text/plain": [
       "<Figure size 640x480 with 1 Axes>"
      ]
     },
     "metadata": {},
     "output_type": "display_data"
    }
   ],
   "source": [
    "#Grafico:\n",
    "\n",
    "plt.figure()\n",
    "plt.plot(a1, label='Norma 2 de A1^n')\n",
    "plt.plot(a2, label='Norma 2 de A2^n')\n",
    "plt.xlabel('n')\n",
    "plt.ylabel('Norma 2')\n",
    "plt.title('Norma 2 de las potencias de A1 y A2')\n",
    "plt.legend()\n",
    "plt.grid()\n",
    "plt.show()"
   ]
  },
  {
   "cell_type": "markdown",
   "id": "a4012643-e03c-4014-9ee0-a806ab81b066",
   "metadata": {},
   "source": [
    "### Consigna 3 -"
   ]
  },
  {
   "cell_type": "code",
   "execution_count": 12,
   "id": "def21eca-ac0c-4040-a7c6-b4a548c902bf",
   "metadata": {},
   "outputs": [],
   "source": [
    "#Primero definimos una función que realice el método de la potencia aplicando el método de Monte Carlo.\n",
    "\n",
    "def metodo_potencia_MonteC(A,n):\n",
    "    autovals_arr = np.zeros(n)\n",
    "\n",
    "    for i in range (n):\n",
    "        autovals_arr[i] = metodo_potencia(A)\n",
    "\n",
    "    media = np.mean(autovals_arr)\n",
    "    desvio_estandar = np.std(autovals_arr)\n",
    "\n",
    "    return media, desvio_estandar"
   ]
  },
  {
   "cell_type": "code",
   "execution_count": 28,
   "id": "1360e23f-1f7a-4b0d-a687-6b0fd7ec2c71",
   "metadata": {},
   "outputs": [
    {
     "name": "stdout",
     "output_type": "stream",
     "text": [
      "autovalor más grande de A1 :0.9999996308709778\n",
      "autovalor más grande de A12 :0.9276513639841445\n"
     ]
    },
    {
     "data": {
      "text/plain": [
       "array([ 1.        +0.j        , -0.27661726+0.j        ,\n",
       "       -0.08954301+0.j        ,  0.16658013+0.04596704j,\n",
       "        0.16658013-0.04596704j])"
      ]
     },
     "execution_count": 28,
     "metadata": {},
     "output_type": "execute_result"
    }
   ],
   "source": [
    "#Calculo Autovalores de A1 y A2\n",
    "\n",
    "#A1:\n",
    "a1, ds1 = metodo_potencia_MonteC(A1,250)\n",
    "print(f'autovalor más grande de A1 :{a1}')\n",
    "\n",
    "\n",
    "#A2\n",
    "a2, ds2 = metodo_potencia_MonteC(A2,250)\n",
    "print(f'autovalor más grande de A12 :{a2}')\n",
    "\n",
    "#chequeo\n",
    "#np.linalg.eigvals(A1)\n",
    "#np.linalg.eigvals(A2)"
   ]
  },
  {
   "cell_type": "code",
   "execution_count": null,
   "id": "02572d5c-c036-4756-8df2-c6836a9f45ab",
   "metadata": {},
   "outputs": [],
   "source": []
  }
 ],
 "metadata": {
  "kernelspec": {
   "display_name": "Python 3 (ipykernel)",
   "language": "python",
   "name": "python3"
  },
  "language_info": {
   "codemirror_mode": {
    "name": "ipython",
    "version": 3
   },
   "file_extension": ".py",
   "mimetype": "text/x-python",
   "name": "python",
   "nbconvert_exporter": "python",
   "pygments_lexer": "ipython3",
   "version": "3.12.4"
  }
 },
 "nbformat": 4,
 "nbformat_minor": 5
}
